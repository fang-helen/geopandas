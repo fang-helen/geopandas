{
 "cells": [
  {
   "cell_type": "markdown",
   "metadata": {},
   "source": [
    "Using an R-tree spatial index with geopandas\n",
    "--------------------------------\n",
    "A spatial indexing class is included with geopandas, which allows for more efficient spatial operations such as searches for nearest neighbors and intersections between objects in multiple dimensions. This is a simple wrapper class for the spatial index implemented in rtree which allows it to be used with geodataframes."
   ]
  },
  {
   "cell_type": "markdown",
   "metadata": {},
   "source": [
    "First, let's construct an instance of sindex and add a simple bounding box to it."
   ]
  },
  {
   "cell_type": "code",
   "execution_count": 1,
   "metadata": {},
   "outputs": [],
   "source": [
    "from geopandas import sindex\n",
    "\n",
    "idx = sindex.SpatialIndex()\n",
    "idx.insert(2321, (0.0, 0.0, 1.0, 1.0))"
   ]
  },
  {
   "cell_type": "markdown",
   "metadata": {},
   "source": [
    "This box has an id of 2321. It has a bottom-left corner located at (0,0) upper-right corner at (1,1)"
   ]
  },
  {
   "cell_type": "markdown",
   "metadata": {},
   "source": [
    "Each SpatialIndex has a property called ''interleaved'' that specifies how to interpret the boundary box parameters.\n",
    "When interleaved == True,the boundaries are interpreted in the order of xmin, ymin, ... kmin, xmax, ymax..., kmax for a k-dimensional index.\n",
    "When interleaved == False, the boundaries are interpreted in the order of xmin, xmax, ... kmin, kmax.\n",
    "By default, interleaved is True."
   ]
  },
  {
   "cell_type": "code",
   "execution_count": 2,
   "metadata": {},
   "outputs": [],
   "source": [
    "# this creates an identical box to the code in the previous cell:\n",
    "\n",
    "# idx = sindex.SpatialIndex()\n",
    "# idx.interleaved = False\n",
    "# idx.insert(2321, (0.0, 1.0, 0.0, 1.0))"
   ]
  },
  {
   "cell_type": "markdown",
   "metadata": {},
   "source": [
    "Let's add a few more boxes to the index."
   ]
  },
  {
   "cell_type": "code",
   "execution_count": 3,
   "metadata": {},
   "outputs": [],
   "source": [
    "idx.insert(2343, (20.0, 20.0, 30.0, 30.0))\n",
    "idx.insert(4351, (0.0, 0.0, 10.0, 10.0))\n",
    "idx.insert(4212, (5.0, 5.0, 7.0, 7.0))"
   ]
  },
  {
   "cell_type": "markdown",
   "metadata": {},
   "source": [
    "Intersections\n",
    "--------------------------------\n",
    "The geopandas sindex can be used to search for regions in an index whose boundaries or interiors intersect with a given box."
   ]
  },
  {
   "cell_type": "code",
   "execution_count": 4,
   "metadata": {},
   "outputs": [
    {
     "data": {
      "text/plain": [
       "[(2321, [0.0, 0.0, 1.0, 1.0]),\n",
       " (4351, [0.0, 0.0, 10.0, 10.0]),\n",
       " (4212, [5.0, 5.0, 7.0, 7.0])]"
      ]
     },
     "execution_count": 4,
     "metadata": {},
     "output_type": "execute_result"
    }
   ],
   "source": [
    "intersect = list(idx.intersection((0, 0, 6, 6), objects=True))\n",
    "result = [(item.id, item.bbox) for item in intersect]\n",
    "result"
   ]
  },
  {
   "cell_type": "markdown",
   "metadata": {},
   "source": [
    "Nearest neighbor search\n",
    "--------------------------------\n",
    "The sindex can also be used to search for the nearest neighbors to a given region.\n",
    "Here, we are searching for the 2 nearest neighbors to the box from (1,1) to (2,2)"
   ]
  },
  {
   "cell_type": "code",
   "execution_count": 5,
   "metadata": {},
   "outputs": [
    {
     "data": {
      "text/plain": [
       "[(2321, [0.0, 0.0, 1.0, 1.0]), (4351, [0.0, 0.0, 10.0, 10.0])]"
      ]
     },
     "execution_count": 5,
     "metadata": {},
     "output_type": "execute_result"
    }
   ],
   "source": [
    "near = list(idx.nearest((1.0, 1.0, 2.0, 2.0), 2, objects = True))\n",
    "result = [(item.id, item.bbox) for item in near]\n",
    "result"
   ]
  },
  {
   "cell_type": "markdown",
   "metadata": {},
   "source": [
    "For these methods, the parameter ''objects'' specifies the return type of the search.\n",
    "When objects == True, a pointer to the bounding box object is returned.\n",
    "When objects == False, only the integer-valued ids of the bounding box objects are returned.\n",
    "By default, objects == False."
   ]
  },
  {
   "cell_type": "code",
   "execution_count": 6,
   "metadata": {},
   "outputs": [
    {
     "data": {
      "text/plain": [
       "[2321, 4351, 4212]"
      ]
     },
     "execution_count": 6,
     "metadata": {},
     "output_type": "execute_result"
    }
   ],
   "source": [
    "intersect = list(idx.intersection((0, 0, 6, 6)))\n",
    "intersect"
   ]
  },
  {
   "cell_type": "code",
   "execution_count": 7,
   "metadata": {},
   "outputs": [
    {
     "data": {
      "text/plain": [
       "[2321, 4351]"
      ]
     },
     "execution_count": 7,
     "metadata": {},
     "output_type": "execute_result"
    }
   ],
   "source": [
    "near = list(idx.nearest((1.0, 1.0, 2.0, 2.0), 2))\n",
    "near"
   ]
  },
  {
   "cell_type": "markdown",
   "metadata": {},
   "source": [
    "Integration with geodataframes\n",
    "--------------------------------\n",
    "We can apply the same principles to an sindex generated from a geodataframe.\n",
    "For demonstration purposes, let's create a small geodataframe with a couple of dummy points."
   ]
  },
  {
   "cell_type": "code",
   "execution_count": 8,
   "metadata": {},
   "outputs": [],
   "source": [
    "import geopandas as gpd\n",
    "from shapely.geometry import Point"
   ]
  },
  {
   "cell_type": "code",
   "execution_count": 9,
   "metadata": {},
   "outputs": [
    {
     "data": {
      "text/html": [
       "<div>\n",
       "<style scoped>\n",
       "    .dataframe tbody tr th:only-of-type {\n",
       "        vertical-align: middle;\n",
       "    }\n",
       "\n",
       "    .dataframe tbody tr th {\n",
       "        vertical-align: top;\n",
       "    }\n",
       "\n",
       "    .dataframe thead th {\n",
       "        text-align: right;\n",
       "    }\n",
       "</style>\n",
       "<table border=\"1\" class=\"dataframe\">\n",
       "  <thead>\n",
       "    <tr style=\"text-align: right;\">\n",
       "      <th></th>\n",
       "      <th>Coordinates</th>\n",
       "    </tr>\n",
       "  </thead>\n",
       "  <tbody>\n",
       "    <tr>\n",
       "      <td>0</td>\n",
       "      <td>POINT (0.00000 0.00000)</td>\n",
       "    </tr>\n",
       "    <tr>\n",
       "      <td>1</td>\n",
       "      <td>POINT (0.00000 1.00000)</td>\n",
       "    </tr>\n",
       "    <tr>\n",
       "      <td>2</td>\n",
       "      <td>POINT (1.00000 0.00000)</td>\n",
       "    </tr>\n",
       "    <tr>\n",
       "      <td>3</td>\n",
       "      <td>POINT (1.00000 1.00000)</td>\n",
       "    </tr>\n",
       "    <tr>\n",
       "      <td>4</td>\n",
       "      <td>POINT (2.00000 2.00000)</td>\n",
       "    </tr>\n",
       "    <tr>\n",
       "      <td>5</td>\n",
       "      <td>POINT (4.00000 6.00000)</td>\n",
       "    </tr>\n",
       "  </tbody>\n",
       "</table>\n",
       "</div>"
      ],
      "text/plain": [
       "               Coordinates\n",
       "0  POINT (0.00000 0.00000)\n",
       "1  POINT (0.00000 1.00000)\n",
       "2  POINT (1.00000 0.00000)\n",
       "3  POINT (1.00000 1.00000)\n",
       "4  POINT (2.00000 2.00000)\n",
       "5  POINT (4.00000 6.00000)"
      ]
     },
     "execution_count": 9,
     "metadata": {},
     "output_type": "execute_result"
    }
   ],
   "source": [
    "coors = list()\n",
    "coors.append(Point(0,0))\n",
    "coors.append(Point(0,1))\n",
    "coors.append(Point(1,0))\n",
    "coors.append(Point(1,1))\n",
    "coors.append(Point(2,2))\n",
    "coors.append(Point(4,6))\n",
    "\n",
    "gdf = gpd.GeoDataFrame({\n",
    "    'Coordinates': coors\n",
    "}, geometry = 'Coordinates')\n",
    "\n",
    "gdf"
   ]
  },
  {
   "cell_type": "markdown",
   "metadata": {},
   "source": [
    "Now, we can generate a spatial index for the points in this geodataframe and use it to perform the same intersection and nearest-neighbor searches"
   ]
  },
  {
   "cell_type": "code",
   "execution_count": 10,
   "metadata": {},
   "outputs": [],
   "source": [
    "spatial_index = gdf.sindex"
   ]
  },
  {
   "cell_type": "code",
   "execution_count": 11,
   "metadata": {},
   "outputs": [
    {
     "data": {
      "text/html": [
       "<div>\n",
       "<style scoped>\n",
       "    .dataframe tbody tr th:only-of-type {\n",
       "        vertical-align: middle;\n",
       "    }\n",
       "\n",
       "    .dataframe tbody tr th {\n",
       "        vertical-align: top;\n",
       "    }\n",
       "\n",
       "    .dataframe thead th {\n",
       "        text-align: right;\n",
       "    }\n",
       "</style>\n",
       "<table border=\"1\" class=\"dataframe\">\n",
       "  <thead>\n",
       "    <tr style=\"text-align: right;\">\n",
       "      <th></th>\n",
       "      <th>Coordinates</th>\n",
       "    </tr>\n",
       "  </thead>\n",
       "  <tbody>\n",
       "    <tr>\n",
       "      <td>0</td>\n",
       "      <td>POINT (0.00000 0.00000)</td>\n",
       "    </tr>\n",
       "    <tr>\n",
       "      <td>1</td>\n",
       "      <td>POINT (0.00000 1.00000)</td>\n",
       "    </tr>\n",
       "    <tr>\n",
       "      <td>2</td>\n",
       "      <td>POINT (1.00000 0.00000)</td>\n",
       "    </tr>\n",
       "    <tr>\n",
       "      <td>3</td>\n",
       "      <td>POINT (1.00000 1.00000)</td>\n",
       "    </tr>\n",
       "  </tbody>\n",
       "</table>\n",
       "</div>"
      ],
      "text/plain": [
       "               Coordinates\n",
       "0  POINT (0.00000 0.00000)\n",
       "1  POINT (0.00000 1.00000)\n",
       "2  POINT (1.00000 0.00000)\n",
       "3  POINT (1.00000 1.00000)"
      ]
     },
     "execution_count": 11,
     "metadata": {},
     "output_type": "execute_result"
    }
   ],
   "source": [
    "# intersection\n",
    "\n",
    "intersect = list(spatial_index.intersection((0, 0, 1, 1)))\n",
    "result = gdf.iloc[intersect]\n",
    "result"
   ]
  },
  {
   "cell_type": "code",
   "execution_count": 12,
   "metadata": {},
   "outputs": [
    {
     "data": {
      "text/html": [
       "<div>\n",
       "<style scoped>\n",
       "    .dataframe tbody tr th:only-of-type {\n",
       "        vertical-align: middle;\n",
       "    }\n",
       "\n",
       "    .dataframe tbody tr th {\n",
       "        vertical-align: top;\n",
       "    }\n",
       "\n",
       "    .dataframe thead th {\n",
       "        text-align: right;\n",
       "    }\n",
       "</style>\n",
       "<table border=\"1\" class=\"dataframe\">\n",
       "  <thead>\n",
       "    <tr style=\"text-align: right;\">\n",
       "      <th></th>\n",
       "      <th>Coordinates</th>\n",
       "    </tr>\n",
       "  </thead>\n",
       "  <tbody>\n",
       "    <tr>\n",
       "      <td>0</td>\n",
       "      <td>POINT (0.00000 0.00000)</td>\n",
       "    </tr>\n",
       "    <tr>\n",
       "      <td>2</td>\n",
       "      <td>POINT (1.00000 0.00000)</td>\n",
       "    </tr>\n",
       "    <tr>\n",
       "      <td>1</td>\n",
       "      <td>POINT (0.00000 1.00000)</td>\n",
       "    </tr>\n",
       "  </tbody>\n",
       "</table>\n",
       "</div>"
      ],
      "text/plain": [
       "               Coordinates\n",
       "0  POINT (0.00000 0.00000)\n",
       "2  POINT (1.00000 0.00000)\n",
       "1  POINT (0.00000 1.00000)"
      ]
     },
     "execution_count": 12,
     "metadata": {},
     "output_type": "execute_result"
    }
   ],
   "source": [
    "# nearest neighbors\n",
    "\n",
    "near = list(spatial_index.nearest((0, 0, 0, 0), 3))\n",
    "result = gdf.iloc[near]\n",
    "result"
   ]
  }
 ],
 "metadata": {
  "kernelspec": {
   "display_name": "Python 3",
   "language": "python",
   "name": "python3"
  },
  "language_info": {
   "codemirror_mode": {
    "name": "ipython",
    "version": 3
   },
   "file_extension": ".py",
   "mimetype": "text/x-python",
   "name": "python",
   "nbconvert_exporter": "python",
   "pygments_lexer": "ipython3",
   "version": "3.7.4"
  }
 },
 "nbformat": 4,
 "nbformat_minor": 2
}
